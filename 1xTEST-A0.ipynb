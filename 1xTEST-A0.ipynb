{
 "cells": [
  {
   "cell_type": "code",
   "execution_count": 1,
   "metadata": {},
   "outputs": [],
   "source": [
    "%matplotlib inline"
   ]
  },
  {
   "cell_type": "code",
   "execution_count": 2,
   "metadata": {},
   "outputs": [],
   "source": [
    "from datetime import datetime\n",
    "import os\n",
    "from os.path import dirname, abspath, join\n",
    "from os import getcwd\n",
    "import sys"
   ]
  },
  {
   "cell_type": "code",
   "execution_count": 3,
   "metadata": {},
   "outputs": [],
   "source": [
    "import random\n",
    "import string\n",
    "import pandas as pd\n",
    "import numpy as np"
   ]
  },
  {
   "cell_type": "code",
   "execution_count": 4,
   "metadata": {},
   "outputs": [],
   "source": [
    "import matplotlib.pyplot as plt\n",
    "import matplotlib.ticker as ticker"
   ]
  },
  {
   "cell_type": "code",
   "execution_count": 5,
   "metadata": {},
   "outputs": [],
   "source": [
    "import torch\n",
    "from IPython.display import clear_output"
   ]
  },
  {
   "cell_type": "code",
   "execution_count": 6,
   "metadata": {},
   "outputs": [
    {
     "name": "stdout",
     "output_type": "stream",
     "text": [
      "MODEL NAME: \n"
     ]
    },
    {
     "name": "stdin",
     "output_type": "stream",
     "text": [
      " A0\n"
     ]
    },
    {
     "name": "stdout",
     "output_type": "stream",
     "text": [
      "SEED ARG: \n"
     ]
    },
    {
     "name": "stdin",
     "output_type": "stream",
     "text": [
      " 6\n"
     ]
    }
   ],
   "source": [
    "print(\"MODEL NAME: \")\n",
    "NAME = str(input())\n",
    "print(\"SEED ARG: \")\n",
    "seed_arg = int(input())"
   ]
  },
  {
   "cell_type": "code",
   "execution_count": 7,
   "metadata": {},
   "outputs": [],
   "source": [
    "# seed_arg = int(sys.argv[1])\n",
    "# print (\"\\n\\nSeed ARG: \",seed_arg)"
   ]
  },
  {
   "cell_type": "code",
   "execution_count": 8,
   "metadata": {},
   "outputs": [],
   "source": [
    "seedlist = np.array([161, 314, 228, 271828, 230, 4271031, 5526538, 6610165, 9849252, 34534, 73422, 8765])\n",
    "seed = seedlist[seed_arg]\n",
    "random.seed(seed)\n",
    "torch.manual_seed(seed)\n",
    "torch.cuda.manual_seed(seed)\n",
    "np.random.seed(seed)\n",
    "os.environ['PYTHONHASHSEED'] = str(seed)"
   ]
  },
  {
   "cell_type": "code",
   "execution_count": 9,
   "metadata": {},
   "outputs": [
    {
     "name": "stdout",
     "output_type": "stream",
     "text": [
      "MODEL NAME:  A0_5526538.pt\n"
     ]
    }
   ],
   "source": [
    "MODELNAME  = NAME + '_' + str(seed) + '.pt'\n",
    "clear_output()\n",
    "print(\"MODEL NAME: \", MODELNAME)"
   ]
  },
  {
   "cell_type": "code",
   "execution_count": 10,
   "metadata": {},
   "outputs": [
    {
     "name": "stdout",
     "output_type": "stream",
     "text": [
      "NN WIDTH:  50\n"
     ]
    }
   ],
   "source": [
    "# HIDDEN_LAYER = 50\n",
    "print(\"NN WIDTH:\")\n",
    "HIDDEN_LAYER = int(input())\n",
    "clear_output()\n",
    "print(\"NN WIDTH: \", HIDDEN_LAYER)\n"
   ]
  },
  {
   "cell_type": "code",
   "execution_count": 11,
   "metadata": {},
   "outputs": [],
   "source": [
    "# !jupyter nbconvert --output-dir='./py_scripts' --to script D1a1.ipynb"
   ]
  },
  {
   "cell_type": "code",
   "execution_count": 12,
   "metadata": {},
   "outputs": [],
   "source": [
    "class ENO(object):\n",
    "    \n",
    "    #no. of forecast types is 6 ranging from 0 to 5\n",
    "  \n",
    "    def __init__(self, location='tokyo', year=2010, shuffle=False, day_balance=False):\n",
    "        self.location = location\n",
    "        self.year = year\n",
    "        self.day = None\n",
    "        self.hr = None\n",
    "        \n",
    "        self.shuffle = shuffle\n",
    "        self.day_balance = day_balance\n",
    "\n",
    "        self.TIME_STEPS = None #no. of time steps in one episode\n",
    "        self.NO_OF_DAYS = None #no. of days in one year\n",
    "        \n",
    "        self.NO_OF_DAYTYPE = 10 #no. of daytypes\n",
    "        self.daycounter = 0 #to count number of days that have been passed\n",
    "        \n",
    "        self.sradiation = None #matrix with GSR for the entire year\n",
    "        self.senergy = None #matrix with harvested energy data for the entire year\n",
    "        self.fforecast = None #array with forecast values for each day\n",
    "        \n",
    "\n",
    "        self.henergy = None #harvested energy variable\n",
    "        self.fcast = None #forecast variable\n",
    "        self.sorted_days = [] #days sorted according to day type\n",
    "        \n",
    "        self.SMAX = 1000 # 1 Watt Solar Panel\n",
    "\n",
    "    \n",
    "    #function to get the solar data for the given location and year and prep it\n",
    "    def get_data(self):\n",
    "        #solar_data/CSV files contain the values of GSR (Global Solar Radiation in MegaJoules per meters squared per hour)\n",
    "        #weather_data/CSV files contain the weather summary from 06:00 to 18:00 and 18:00 to 06:00+1\n",
    "        location = self.location\n",
    "        year = self.year\n",
    "\n",
    "        THIS_DIR = getcwd()\n",
    "        SDATA_DIR = abspath(join(THIS_DIR, 'solar_data'))  #abspath(join(THIS_DIR, '../../..', 'data'))\n",
    "        \n",
    "        sfile = SDATA_DIR + '/' + location +'/' + str(year) + '.csv'\n",
    "        \n",
    "        #skiprows=4 to remove unnecessary title texts\n",
    "        #usecols=4 to read only the Global Solar Radiation (GSR) values\n",
    "        solar_radiation = pd.read_csv(sfile, skiprows=4, encoding='shift_jisx0213', usecols=[4])\n",
    "      \n",
    "        #convert dataframe to numpy array\n",
    "        solar_radiation = solar_radiation.values\n",
    "\n",
    "        #convert missing data in CSV files to zero\n",
    "        solar_radiation[np.isnan(solar_radiation)] = 0\n",
    "\n",
    "        #reshape solar_radiation into no_of_daysx24 array\n",
    "        solar_radiation = solar_radiation.reshape(-1,24)\n",
    "\n",
    "        if(self.shuffle): #if class instatiation calls for shuffling the day order. Required when learning\n",
    "            np.random.shuffle(solar_radiation) \n",
    "        self.sradiation = solar_radiation\n",
    "        \n",
    "        #GSR values (in MJ/sq.mts per hour) need to be expressed in mW\n",
    "        # Conversion is accomplished by \n",
    "        # solar_energy = GSR(in MJ/m2/hr) * 1e6 * size of solar cell * efficiency of solar cell /(60x60) *1000 (to express in mW)\n",
    "        # the factor of 2 in the end is assuming two solar cells\n",
    "        self.senergy = 2*self.sradiation * 1e6 * (55e-3 * 70e-3) * 0.15 * 1000/(60*60)\n",
    "\n",
    "        return 0\n",
    "    \n",
    "    #function to map total day radiation into type of day ranging from 0 to 5\n",
    "    #the classification into day types is quite arbitrary. There is no solid logic behind this type of classification.\n",
    "    \n",
    "    def get_day_state(self,tot_day_radiation):\n",
    "        bin_edges = np.array([0, 3.5, 6.5, 9.0, 12.5, 15.5, 18.5, 22.0, 25, 28])\n",
    "        for k in np.arange(1,bin_edges.size):\n",
    "            if (bin_edges[k-1] < tot_day_radiation <= bin_edges[k]):\n",
    "                day_state = k -1\n",
    "            else:\n",
    "                day_state = bin_edges.size - 1\n",
    "        return int(day_state)\n",
    "    \n",
    "    def get_forecast(self):\n",
    "        #create a perfect forecaster.\n",
    "        tot_day_radiation = np.sum(self.sradiation, axis=1) #contains total solar radiation for each day\n",
    "        get_day_state = np.vectorize(self.get_day_state)\n",
    "        self.fforecast = get_day_state(tot_day_radiation)\n",
    "        \n",
    "        #sort days depending on the type of day and shuffle them; maybe required when learning\n",
    "        for fcast in range(0,6):\n",
    "            fcast_days = ([i for i,x in enumerate(self.fforecast) if x == fcast])\n",
    "            np.random.shuffle(fcast_days)\n",
    "            self.sorted_days.append(fcast_days)\n",
    "        return 0\n",
    "    \n",
    "    def reset(self,day=0): #it is possible to reset to the beginning of a certain day\n",
    "        \n",
    "        self.get_data() #first get data for the given year\n",
    "        self.get_forecast() #calculate the forecast\n",
    "        \n",
    "        self.TIME_STEPS = self.senergy.shape[1]\n",
    "        self.NO_OF_DAYS = self.senergy.shape[0]\n",
    "        \n",
    "        self.day = day\n",
    "        self.hr = 0\n",
    "        \n",
    "        self.henergy = self.senergy[self.day][self.hr]\n",
    "        self.fcast = self.fforecast[self.day]\n",
    "        \n",
    "        end_of_day = False\n",
    "        end_of_year = False\n",
    "        return [self.henergy, self.fcast, end_of_day, end_of_year]\n",
    "\n",
    "    \n",
    "    def step(self):\n",
    "        end_of_day = False\n",
    "        end_of_year = False\n",
    "        if not(self.day_balance): #if daytype balance is not required\n",
    "            if(self.hr < self.TIME_STEPS - 1):\n",
    "                self.hr += 1\n",
    "                self.henergy = self.senergy[self.day][self.hr] \n",
    "                self.fcast = self.fforecast[self.day]\n",
    "            else:\n",
    "                if(self.day < self.NO_OF_DAYS -1):\n",
    "                    end_of_day = True\n",
    "                    self.hr = 0\n",
    "                    self.day += 1\n",
    "                    self.henergy = self.senergy[self.day][self.hr] \n",
    "                    self.fcast = self.fforecast[self.day]\n",
    "                else:\n",
    "                    end_of_day = True\n",
    "                    end_of_year = True\n",
    "                    \n",
    "        else: #when training, we want all daytypes to be equally represented for robust policy\n",
    "              #obviously, the days are going to be in random order\n",
    "            if(self.hr < self.TIME_STEPS - 1):\n",
    "                self.hr += 1\n",
    "                self.henergy = self.senergy[self.day][self.hr]\n",
    "                self.fcast = self.fforecast[self.day]\n",
    "            else:\n",
    "                if(self.daycounter < self.NO_OF_DAYS -1):\n",
    "                    end_of_day = True\n",
    "                    self.daycounter += 1\n",
    "                    self.hr = 0\n",
    "                    daytype = random.choice(np.arange(0,self.NO_OF_DAYTYPE)) #choose random daytype\n",
    "                    self.day = np.random.choice(self.sorted_days[daytype]) #choose random day from that daytype\n",
    "                    self.henergy = self.senergy[self.day][self.hr] \n",
    "                    self.fcast = self.fforecast[self.day]\n",
    "                else: \n",
    "                    end_of_day = True\n",
    "                    end_of_year = True\n",
    "                    self.daycounter = 0\n",
    "        \n",
    "        \n",
    "        return [self.henergy, self.fcast, end_of_day, end_of_year]"
   ]
  },
  {
   "cell_type": "code",
   "execution_count": 13,
   "metadata": {},
   "outputs": [],
   "source": [
    "class CAPM (object):\n",
    "    def __init__(self,location='tokyo', year=2010, shuffle=False, trainmode=False):\n",
    "\n",
    "        #all energy values i.e. BMIN, BMAX, BOPT, HMAX are in mWhr. Assuming one timestep is one hour\n",
    "        \n",
    "        self.BMIN = 0.0                #Minimum battery level that is tolerated. Maybe non-zero also\n",
    "        self.BMAX = 10000.0            #Max Battery Level. May not necessarily be equal to total batter capacity [3.6V x 2500mAh]\n",
    "        self.BOPT = 0.5 * self.BMAX    #Optimal Battery Level. Assuming 50% of battery is the optimum\n",
    "        self.BLIM_LO = 0.15*self.BMAX\n",
    "        self.BLIM_HI = 0.95*self.BMAX\n",
    "        self.BSAFE_LO = 0.35*self.BMAX\n",
    "        self.BSAFE_HI = 0.65*self.BMAX\n",
    "        \n",
    "        self.ENP_MARGIN = 0.3*self.BMAX\n",
    "\n",
    "        \n",
    "        self.HMIN = 0      #Minimum energy that can be harvested by the solar panel.\n",
    "        self.HMAX = None   #Maximum energy that can be harvested by the solar panel. [500mW]\n",
    "        \n",
    "        self.DMAX = 500      #Maximum energy that can be consumed by the node in one time step. [~ 3.6V x 135mA]\n",
    "        self.N_ACTIONS = 10  #No. of different duty cycles possible\n",
    "        self.DMIN = self.DMAX/self.N_ACTIONS #Minimum energy that can be consumed by the node in one time step. [~ 3.6V x 15mA]\n",
    "        \n",
    "        self.binit = None     #battery at the beginning of day\n",
    "        self.btrack = []      #track the mean battery level for each day\n",
    "        self.atrack = []      #track the duty cycles for each day\n",
    "        self.htrack = []      #track the harvested for each day\n",
    "        self.batt = None      #battery variable\n",
    "        self.enp = None       #enp at end of hr\n",
    "        self.henergy = None   #harvested energy variable\n",
    "        self.fcast = None     #forecast variable\n",
    "        \n",
    "        self.MUBATT = 0.6\n",
    "        self.SDBATT = 0.02\n",
    "        \n",
    "        self.MUHENERGY = 0.5\n",
    "        self.SDHENERGY = 0.2\n",
    "        \n",
    "        self.MUENP = 0\n",
    "        self.SDENP = 0.02\n",
    "        \n",
    "        self.location  = location\n",
    "        self.year      = year\n",
    "        self.shuffle   = shuffle\n",
    "        self.trainmode = trainmode\n",
    "        self.eno       = None\n",
    "        \n",
    "        self.day_violation_flag = False\n",
    "        self.violation_flag     = False\n",
    "        self.violation_counter  = 0\n",
    "        \n",
    "        self.batt_violations    = 0\n",
    "\n",
    "        self.NO_OF_DAYTYPE      = 10 #no. of daytypes\n",
    " \n",
    "    def reset(self,day=0,batt=-1):\n",
    "        henergy, fcast, day_end, year_end = self.eno.reset(day) #reset the eno environment\n",
    "        self.violation_flag = False\n",
    "        self.violation_counter = 0\n",
    "        self.batt_violations = 0\n",
    "        \n",
    "        if(batt == -1):\n",
    "            self.batt = self.BOPT\n",
    "        else:\n",
    "            self.batt = batt\n",
    "            \n",
    "        self.batt = np.clip(self.batt, self.BMIN, self.BMAX)\n",
    "        self.binit = self.batt\n",
    "        self.btrack = np.append(self.btrack, self.batt) #track battery levels\n",
    "\n",
    "        self.enp = self.BOPT - self.batt\n",
    "#         self.enp = self.binit - self.batt #enp is calculated\n",
    "        self.henergy = np.clip(henergy, self.HMIN, self.HMAX) #clip henergy within HMIN and HMAX\n",
    "        self.fcast = fcast\n",
    "        \n",
    "        norm_batt    = self.batt    /self.BMAX\n",
    "        norm_enp     = self.enp     /self.BMAX\n",
    "        norm_henergy = self.henergy /self.HMAX\n",
    "        norm_fcast   = self.fcast   /(self.NO_OF_DAYTYPE-1)\n",
    "        c_state = [norm_batt, norm_enp, norm_henergy, norm_fcast] #continuous states\n",
    "\n",
    "        reward = 0\n",
    "        \n",
    "        return [c_state, reward, day_end, year_end]\n",
    "    \n",
    "    def getstate(self): #query the present state of the system\n",
    "        norm_batt    = self.batt    /self.BMAX\n",
    "        norm_enp     = self.enp     /self.BMAX\n",
    "        norm_henergy = self.henergy /self.HMAX\n",
    "        norm_fcast   = self.fcast   /(self.NO_OF_DAYTYPE-1)\n",
    "        c_state = [norm_batt, norm_enp, norm_henergy, norm_fcast] #continuous states\n",
    "\n",
    "        return c_state\n",
    "        \n",
    "    \n",
    "    #reward function\n",
    "    def rewardfn(self):\n",
    "        violation_penalty = 0\n",
    "        reward = 2 - 20*np.abs(self.enp)/self.BMAX\n",
    "#         if(self.day_violation_flag):\n",
    "#             violation_penalty += 3    #penalty for violating battery limits anytime during the day\n",
    "        return (reward - violation_penalty)\n",
    "    \n",
    "    def step(self, action):\n",
    "        day_end = False\n",
    "        year_end = False\n",
    "        self.violation_flag = False\n",
    "        reward = 0\n",
    "        self.atrack = np.append(self.atrack, action+1) #track duty cycles\n",
    "        self.htrack = np.append(self.htrack, self.henergy)\n",
    "\n",
    "#         action_var = np.abs(np.mean(self.atrack) - action)/9 #can vary from 0 to 1\n",
    "#         reward += 0.25*(0.5 - action_var ) #reward penalizing high duty cycle variance [-0.5 to 0.5]*0.25\n",
    "      \n",
    "        action = np.clip(action, 0, self.N_ACTIONS-1) #action values range from (0 to N_ACTIONS-1)\n",
    "        e_consumed = (action+1)*self.DMAX/self.N_ACTIONS   #energy consumed by the node\n",
    "        \n",
    "        \n",
    "        self.batt += (self.henergy - e_consumed)\n",
    "        if(self.batt <= self.BMIN or self.batt >= self.BMAX ):\n",
    "                self.batt_violations += 1\n",
    "        \n",
    "        if(self.batt < self.BLIM_LO or self.batt > self.BLIM_HI ):\n",
    "            self.violation_flag = True #penalty for violating battery limits everytime it happens\n",
    "#             reward -= 2\n",
    "#             if(self.batt < self.BLIM_LO): #battery depletion is more fatal than battery overflow\n",
    "#                 reward -= 2\n",
    "\n",
    "        if(self.violation_flag):\n",
    "            if(self.day_violation_flag == False): #penalty for violating battery limits anytime during the day - triggers once everyday\n",
    "                self.violation_counter += 1\n",
    "                self.day_violation_flag = True\n",
    "                \n",
    "        #calculate ENP before clipping\n",
    "        self.enp = self.BOPT - self.batt\n",
    "        \n",
    "        self.batt = np.clip(self.batt, self.BMIN, self.BMAX) #clip battery values within permitted level\n",
    "        self.btrack = np.append(self.btrack, self.batt) #track battery levels\n",
    "        \n",
    "        \n",
    "        #proceed to the next time step\n",
    "       \n",
    "        self.henergy, self.fcast, day_end, year_end = self.eno.step()\n",
    "        self.henergy = np.clip(self.henergy, self.HMIN, self.HMAX) #clip henergy within HMIN and HMAX\n",
    "                        \n",
    "        if(day_end): #if eno object flags that the day has ended then give reward\n",
    "            reward += self.rewardfn()\n",
    "            if (self.trainmode): #reset battery to optimal level if limits are exceeded when training\n",
    "#                 self.batt = np.random.uniform(self.DMAX*self.eno.TIME_STEPS/self.BMAX,0.8)*self.BMAX\n",
    "#                 if (self.violation_flag):\n",
    "                if np.random.uniform() < HELP : #occasionaly reset the battery\n",
    "                    self.batt = self.BOPT  \n",
    "            \n",
    "            self.day_violation_flag = False\n",
    "            self.binit = self.batt #this will be the new initial battery level for next day\n",
    "            self.btrack = [] #clear battery tracker\n",
    "            self.atrack = [] #clear duty cycle tracker\n",
    "            self.htrack = [] #clear henergy tracker\n",
    "   \n",
    "        norm_batt    = self.batt    /self.BMAX\n",
    "        norm_enp     = self.enp     /self.BMAX\n",
    "        norm_henergy = self.henergy /self.HMAX\n",
    "        norm_fcast   = self.fcast   /(self.NO_OF_DAYTYPE-1)\n",
    "        c_state = [norm_batt, norm_enp, norm_henergy, norm_fcast] #continuous states\n",
    "        \n",
    "        return [c_state, reward, day_end, year_end]"
   ]
  },
  {
   "cell_type": "code",
   "execution_count": 14,
   "metadata": {},
   "outputs": [],
   "source": [
    "# Hyper Parameters\n",
    "N_ACTIONS           = 10 #no. of duty cycles (0,1,2,3,4)\n",
    "N_STATES            = 4 #number of state space parameter [batt, enp, henergy, fcast]\n",
    "GPU                 = False\n",
    "ACTIVATION          = None"
   ]
  },
  {
   "cell_type": "code",
   "execution_count": 15,
   "metadata": {},
   "outputs": [
    {
     "name": "stdout",
     "output_type": "stream",
     "text": [
      "NN ACTIVATION: RELU\n"
     ]
    }
   ],
   "source": [
    "print(\"0 - RELU\\n1 - LeRELU\")\n",
    "print(\"NN ACTIVATION TYPE:\")\n",
    "ACTIVATION = int(input())\n",
    "clear_output()\n",
    "if   (ACTIVATION==0): print(\"NN ACTIVATION: RELU\")\n",
    "elif (ACTIVATION==1): print(\"NN ACTIVATION: LeRELU\")\n",
    "else                : print(\"NN ACTIVATION: Error\")\n"
   ]
  },
  {
   "cell_type": "code",
   "execution_count": 16,
   "metadata": {},
   "outputs": [
    {
     "name": "stdout",
     "output_type": "stream",
     "text": [
      "DEVICE: CPU\n"
     ]
    }
   ],
   "source": [
    "print(\"0 - CPU\\n1 - GPU\")\n",
    "print(\"DEVICE:\")\n",
    "dev_ice = int(input())\n",
    "clear_output()\n",
    "if   (dev_ice==0): \n",
    "    print(\"DEVICE: CPU\")\n",
    "    GPU = False\n",
    "elif (dev_ice==1): \n",
    "    print(\"DEVICE: GPU\")\n",
    "    GPU = True\n",
    "else: \n",
    "    print(\"DEVICE: Error\")"
   ]
  },
  {
   "cell_type": "code",
   "execution_count": 17,
   "metadata": {},
   "outputs": [],
   "source": [
    "import torch\n",
    "import torch.nn as nn\n",
    "import torch.nn.functional as F\n",
    "import numpy as np\n",
    "\n",
    "#Class definitions for NN model and learning algorithm\n",
    "class Net(nn.Module):\n",
    "    def __init__(self):\n",
    "        super(Net, self).__init__()\n",
    "\n",
    "        self.fc1 = nn.Linear(N_STATES, HIDDEN_LAYER)\n",
    "        nn.init.kaiming_uniform_(self.fc1.weight)\n",
    "        \n",
    "#         self.fc2 = nn.Linear(HIDDEN_LAYER, HIDDEN_LAYER)\n",
    "#         nn.init.kaiming_uniform_(self.fc2.weight)\n",
    "        \n",
    "#         self.fc3 = nn.Linear(HIDDEN_LAYER, HIDDEN_LAYER)\n",
    "#         nn.init.kaiming_uniform_(self.fc3.weight)\n",
    "\n",
    "        self.fc_out = nn.Linear(HIDDEN_LAYER, N_ACTIONS)\n",
    "        nn.init.xavier_uniform_(self.fc_out.weight) \n",
    "    \n",
    "    def forward(self, x):\n",
    "        x = self.fc1(x)\n",
    "        if   (ACTIVATION==0): x = F.relu(x)\n",
    "        elif (ACTIVATION==1): x = F.leaky_relu(x)\n",
    "        else                : print(\"NN ACTIVATION: Error\")\n",
    "#         x = F.leaky_relu(x)\n",
    "#         x = self.fc2(x)\n",
    "#         x = F.relu(x)\n",
    "#         x = self.fc3(x)\n",
    "#         x = F.relu(x)\n",
    "        x = self.fc_out(x)\n",
    "        return x\n",
    "    \n",
    "class DQN(object):\n",
    "    def __init__(self):\n",
    "        if(GPU): \n",
    "            device = torch.device(\"cuda:0\" if torch.cuda.is_available() else \"cpu\")\n",
    "        else:\n",
    "            device = torch.device('cpu')\n",
    "        self.eval_net = Net()\n",
    "        self.eval_net.to(device)\n",
    "        self.device = device\n",
    "        print(\"Neural net:\")\n",
    "        print(self.eval_net)\n",
    "\n",
    "#         if   (LOSS_F==0): self.loss_func = nn.MSELoss()\n",
    "#         elif (LOSS_F==1): self.loss_func = nn.SmoothL1Loss()\n",
    "#         else                : print(\"LOSS FUNCTION: Error\")    \n",
    "  \n",
    "    def choose_greedy_action(self, x):\n",
    "        x = torch.unsqueeze(torch.FloatTensor(x), 0)\n",
    "        x = x.to(self.device)\n",
    "\n",
    "        # input only one sample\n",
    "        if True:   # greedy\n",
    "            actions_value = self.eval_net.forward(x)\n",
    "            actions_value = actions_value.to(torch.device(\"cpu\"))\n",
    "            action = torch.max(actions_value, 1)[1].data.numpy()\n",
    "            action = action[0] # return the argmax index\n",
    "        return action"
   ]
  },
  {
   "cell_type": "code",
   "execution_count": 18,
   "metadata": {},
   "outputs": [],
   "source": [
    "def stdize(s):\n",
    "    MU_BATT = 0.5\n",
    "    SD_BATT = 0.15\n",
    "    \n",
    "    MU_ENP = 0\n",
    "    SD_ENP = 0.15\n",
    "    \n",
    "    MU_HENERGY = 0.35\n",
    "    SD_HENERGY = 0.25\n",
    "    \n",
    "    MU_FCAST = 0.42\n",
    "    SD_FCAST = 0.27\n",
    "    \n",
    "    norm_batt, norm_enp, norm_henergy, norm_fcast = s\n",
    "    \n",
    "    std_batt    = (norm_batt    - MU_BATT    )/SD_BATT\n",
    "    std_enp     = (norm_enp     - MU_ENP     )/SD_ENP\n",
    "    std_henergy = (norm_henergy - MU_HENERGY )/SD_HENERGY\n",
    "    std_fcast   = (norm_fcast   - MU_FCAST   )/SD_FCAST\n",
    "\n",
    "    return [std_batt, std_enp, std_henergy, std_fcast]\n"
   ]
  },
  {
   "cell_type": "code",
   "execution_count": 19,
   "metadata": {},
   "outputs": [
    {
     "name": "stdout",
     "output_type": "stream",
     "text": [
      "BMIN       =  0.0\n",
      "BMAX       =  10000.0\n",
      "BOPT       =  5000.0\n",
      "BLIM_LO    =  1500.0\n",
      "BLIM_HI    =  9500.0\n",
      "BSAFE_LO   =  3500.0\n",
      "BSAFE_HI   =  6500.0\n",
      "ENP_MARGIN =  3000.0\n"
     ]
    }
   ],
   "source": [
    "#CONSTANTS\n",
    "LOCATION = 'tokyo'\n",
    "YEAR = 2010\n",
    "capm      = CAPM(LOCATION,YEAR,shuffle=False, trainmode=False) #instantiate the CAPM class\n",
    "print(\"BMIN       = \", capm.BMIN)\n",
    "print(\"BMAX       = \", capm.BMAX)\n",
    "print(\"BOPT       = \", capm.BOPT)\n",
    "print(\"BLIM_LO    = \", capm.BLIM_LO)\n",
    "print(\"BLIM_HI    = \", capm.BLIM_HI)\n",
    "print(\"BSAFE_LO   = \", capm.BSAFE_LO)\n",
    "print(\"BSAFE_HI   = \", capm.BSAFE_HI)\n",
    "print(\"ENP_MARGIN = \", capm.ENP_MARGIN)"
   ]
  },
  {
   "cell_type": "code",
   "execution_count": 20,
   "metadata": {},
   "outputs": [
    {
     "data": {
      "image/png": "[encoded data removed]",
      "text/plain": [
       "<Figure size 720x360 with 1 Axes>"
      ]
     },
     "metadata": {
      "needs_background": "light"
     },
     "output_type": "display_data"
    },
    {
     "name": "stdout",
     "output_type": "stream",
     "text": [
      "RF_1c(0)            =   2.00\n",
      "RF_1c(ENP_MARGIN/4) =   0.50\n",
      "RF_1c(ENP_MARGIN/2) =  -1.00\n",
      "RF_1c(ENP_MARGIN)   =  -4.00\n",
      "\n",
      "RF_1c(BMAX/2) =  -8.00\n",
      "RF_1c(BMAX)   = -18.00\n",
      "\n"
     ]
    }
   ],
   "source": [
    "#PLOT REWARD FUNCTIONS\n",
    "\n",
    "\n",
    "x = np.arange(0,capm.BMAX)\n",
    "y = [capm.rewardfn() for capm.enp in x]\n",
    "\n",
    "fig = plt.figure(figsize=(10,5))\n",
    "ax = fig.add_subplot(111)\n",
    "ax.set_title('REWARD FUNCTION 1d')\n",
    "ax.set_xlabel('ENP/BMAX')\n",
    "ax.set_ylabel('Reward')\n",
    "ax.axvline((capm.ENP_MARGIN)/capm.BMAX, color='g',alpha=0.75, linestyle='--')\n",
    "ax.axvline(1-(capm.BSAFE_LO)/capm.BMAX, color='c',alpha=0.75, linestyle='-.')\n",
    "ax.axvline(  (capm.BSAFE_HI)/capm.BMAX, color='b',alpha=0.75, linestyle=\"-.\")\n",
    "ax.axvline(1- (capm.BLIM_LO)/capm.BMAX, color='r',alpha=0.75, linestyle=':')\n",
    "ax.axvline(   (capm.BLIM_HI)/capm.BMAX, color='m',alpha=0.75, linestyle=\":\")\n",
    "ax.plot(x/capm.BMAX,y)\n",
    "ax.grid(True)\n",
    "plt.show()\n",
    "\n",
    "capm.enp = 0;            print(\"RF_1c(0)            = {:6.2f}\".format(capm.rewardfn()) )\n",
    "capm.enp = capm.ENP_MARGIN/4; print(\"RF_1c(ENP_MARGIN/4) = {:6.2f}\".format(capm.rewardfn()) )\n",
    "capm.enp = capm.ENP_MARGIN/2; print(\"RF_1c(ENP_MARGIN/2) = {:6.2f}\".format(capm.rewardfn()) )\n",
    "capm.enp = capm.ENP_MARGIN;   print(\"RF_1c(ENP_MARGIN)   = {:6.2f}\".format(capm.rewardfn()) )\n",
    "print(\"\");\n",
    "capm.enp = capm.BMAX/2; print(\"RF_1c(BMAX/2) = {:6.2f}\".format(capm.rewardfn()) )\n",
    "capm.enp = capm.BMAX;   print(\"RF_1c(BMAX)   = {:6.2f}\".format(capm.rewardfn()) )\n",
    "print(\"\");"
   ]
  },
  {
   "cell_type": "code",
   "execution_count": 21,
   "metadata": {},
   "outputs": [
    {
     "data": {
      "image/png": "[encoded data removed]",
      "text/plain": [
       "<Figure size 648x432 with 2 Axes>"
      ]
     },
     "metadata": {
      "needs_background": "light"
     },
     "output_type": "display_data"
    },
    {
     "name": "stdout",
     "output_type": "stream",
     "text": [
      "ITERATION #0 :  LR = 3.39e-05 @ EPSILON = 0.50\n",
      "ITERATION #10:  LR = 9.35e-05 @ EPSILON = 0.50\n",
      "ITERATION #20:  LR = 9.98e-05 @ EPSILON = 0.50\n",
      "ITERATION #50:  LR = 1.00e-04 @ EPSILON = 0.75\n",
      "ITERATION #80:  LR = 1.46e-05 @ EPSILON = 1.00\n",
      "ITERATION #99:  LR = 1.38e-05 @ EPSILON = 1.00\n"
     ]
    }
   ],
   "source": [
    "#PLOT LR AND EPSILON SCHEDULING\n",
    "#LEARNING RATE VS EPSILON VERSION 3\n",
    "e_rec = []\n",
    "e_slope = 5             \n",
    "e_start = 0.5           \n",
    "e_inflection_point = 50  \n",
    "\n",
    "\n",
    "lr_rec = []\n",
    "lr_slope = 3\n",
    "lr_start = 0\n",
    "lr_inflection_point = 2\n",
    "\n",
    "for iteration in np.arange(0,100):\n",
    "    if iteration <=50:\n",
    "        lrate =  (lr_start + (1-lr_start)/(1 + np.exp(-(iteration-lr_inflection_point)/lr_slope)))*1e-4\n",
    "    else:\n",
    "        lrate = 0.95*(lrate-lrate*0.1)+0.2*1e-5\n",
    "    lr_rec= np.append(lr_rec,lrate)\n",
    "\n",
    "    e =  e_start + (1-e_start)/(1 + np.exp(-(iteration-e_inflection_point)/e_slope))\n",
    "    e_rec= np.append(e_rec,e)\n",
    "\n",
    "fig = plt.figure(figsize=(9,6))\n",
    "\n",
    "ax = fig.add_subplot(111)\n",
    "ax.set_title(\"LR and EPSILON SCHEDULING V3\")\n",
    "ax.set_xlabel(\"ITERATION\")\n",
    "ax.set_ylabel(\"LR\",      color = 'm')\n",
    "ax.plot(lr_rec,          color = 'm')\n",
    "ax.tick_params(axis='y', color = 'm')\n",
    "ax.ticklabel_format(style='sci', axis='y', scilimits=(-6,-7))\n",
    "ax.minorticks_on()\n",
    "\n",
    "ax.set_axisbelow(True)\n",
    "\n",
    "ax.grid(b=True, which='minor', linestyle=':',  color='k', alpha = 0.2)\n",
    "ax.grid(b=True, which='major', linestyle='-',  color='k', alpha = 0.2)\n",
    "\n",
    "\n",
    "ax_ = ax.twinx()\n",
    "ax_.set_ylabel(\"EPSILON\", color = 'c')\n",
    "ax_.tick_params(axis='y', color = 'c')\n",
    "ax_.set_axisbelow(True)\n",
    "ax_.minorticks_on()\n",
    "ax_.plot(e_rec,           color = 'c')\n",
    "\n",
    "plt.show()\n",
    "\n",
    "print(\"ITERATION #0 :  LR = {:4.2e} @ EPSILON = {:4.2f}\".format(lr_rec[0],e_rec[0]))\n",
    "print(\"ITERATION #10:  LR = {:4.2e} @ EPSILON = {:4.2f}\".format(lr_rec[10],e_rec[10]))\n",
    "print(\"ITERATION #20:  LR = {:4.2e} @ EPSILON = {:4.2f}\".format(lr_rec[20],e_rec[20]))\n",
    "print(\"ITERATION #50:  LR = {:4.2e} @ EPSILON = {:4.2f}\".format(lr_rec[50],e_rec[50]))\n",
    "print(\"ITERATION #80:  LR = {:4.2e} @ EPSILON = {:4.2f}\".format(lr_rec[80],e_rec[80]))\n",
    "print(\"ITERATION #99:  LR = {:4.2e} @ EPSILON = {:4.2f}\".format(lr_rec[99],e_rec[99]))"
   ]
  },
  {
   "cell_type": "code",
   "execution_count": 22,
   "metadata": {},
   "outputs": [
    {
     "name": "stdout",
     "output_type": "stream",
     "text": [
      "Neural net:\n",
      "Net(\n",
      "  (fc1): Linear(in_features=4, out_features=50, bias=True)\n",
      "  (fc_out): Linear(in_features=50, out_features=10, bias=True)\n",
      ")\n",
      "DEVICE:  cpu\n"
     ]
    }
   ],
   "source": [
    "S_FILENAME = './models/'+ MODELNAME\n",
    "dqn = DQN()\n",
    "dqn.eval_net.load_state_dict(torch.load(S_FILENAME))\n",
    "dqn.eval_net.eval()\n",
    "print(\"DEVICE: \", dqn.device)"
   ]
  },
  {
   "cell_type": "code",
   "execution_count": 23,
   "metadata": {},
   "outputs": [
    {
     "data": {
      "image/png": "[encoded data removed]",
      "text/plain": [
       "<Figure size 1296x432 with 2 Axes>"
      ]
     },
     "metadata": {
      "needs_background": "light"
     },
     "output_type": "display_data"
    }
   ],
   "source": [
    "# PLOT WEIGHTS\n",
    "fig = plt.figure(figsize=(18,6))\n",
    "\n",
    "ax1 = fig.add_subplot(211)\n",
    "newfc1 = dqn.eval_net.fc1.weight.data.cpu().numpy().flatten()\n",
    "xaxis = np.arange(0,newfc1.shape[0])\n",
    "ax1.bar(xaxis, newfc1,  color='b', alpha = 1.0)\n",
    "ax1.set_title(\"FC1\")\n",
    "ax1.set_ylim([-4,4])\n",
    "ax1.set_ylabel(\"Weight Value\")\n",
    "# ax1.hist(newfc1,  density = False, bins=HIDDEN_LAYER, rwidth=0.95, color='b' , alpha = 1.0 )\n",
    "\n",
    "\n",
    "axO = fig.add_subplot(212)\n",
    "newout = dqn.eval_net.fc_out.weight.data.cpu().numpy().flatten()\n",
    "xaxis = np.arange(0,newout.shape[0])\n",
    "axO.bar(xaxis, newout,  color='g', alpha = 1.0)\n",
    "# axO.hist(newout,  density = False, bins=HIDDEN_LAYER, rwidth=0.95, color='g' , alpha = 0.6)\n",
    "axO.set_title(\"FC OUT\")\n",
    "axO.set_ylim([-4,4])\n",
    "axO.set_ylabel(\"Weight Value\")\n",
    "\n",
    "\n",
    "\n",
    "fig.tight_layout()\n",
    "plt.show()"
   ]
  },
  {
   "cell_type": "code",
   "execution_count": 24,
   "metadata": {},
   "outputs": [
    {
     "data": {
      "image/png": "[encoded data removed]",
      "text/plain": [
       "<Figure size 1296x432 with 2 Axes>"
      ]
     },
     "metadata": {
      "needs_background": "light"
     },
     "output_type": "display_data"
    }
   ],
   "source": [
    "# PLOT HISTOGRAM OF WEIGHTS\n",
    "fig = plt.figure(figsize=(18,6))\n",
    "\n",
    "ax1 = fig.add_subplot(211)\n",
    "newfc1 = dqn.eval_net.fc1.weight.data.cpu().numpy().flatten()\n",
    "xaxis = np.arange(0,newfc1.shape[0])\n",
    "# ax1.bar(xaxis, newfc1,  color='b', alpha = 1.0)\n",
    "ax1.hist(newfc1,  density = False, bins=HIDDEN_LAYER, rwidth=0.95, color='b' , alpha = 1.0 )\n",
    "ax1.set_title(\"FC1\")\n",
    "ax1.set_xlabel(\"Weight Value\")\n",
    "\n",
    "\n",
    "axO = fig.add_subplot(212)\n",
    "newout = dqn.eval_net.fc_out.weight.data.cpu().numpy().flatten()\n",
    "xaxis = np.arange(0,newout.shape[0])\n",
    "# axO.bar(xaxis, newout,  color='g', alpha = 1.0)\n",
    "axO.hist(newout,  density = False, bins=HIDDEN_LAYER, rwidth=0.95, color='g' , alpha = 0.6)\n",
    "axO.set_title(\"FC OUT\")\n",
    "axO.set_xlabel(\"Weight Value\")\n",
    "\n",
    "\n",
    "fig.tight_layout()\n",
    "plt.show()"
   ]
  },
  {
   "cell_type": "code",
   "execution_count": 66,
   "metadata": {},
   "outputs": [
    {
     "name": "stdout",
     "output_type": "stream",
     "text": [
      "***MEASURING PERFORMANCE OF THE MODEL***\n"
     ]
    }
   ],
   "source": [
    "#TESTING\n",
    "print(\"***MEASURING PERFORMANCE OF THE MODEL***\")\n",
    "results = np.empty(4)\n",
    "LOCATION = 'minamidaito'\n",
    "for YEAR in np.arange(2000,2019):\n",
    "    capm      = CAPM(LOCATION,YEAR,shuffle=False, trainmode=False) #instantiate the CAPM class\n",
    "    capm.eno  = ENO(LOCATION,YEAR, shuffle=False, day_balance=False) #instantiate the environment inside the CAPM class\n",
    "    capm.HMAX = capm.eno.SMAX #maximum power output of solar cell is set in CAPM object using the value in ENO object\n",
    "\n",
    "    s, r, day_end, year_end = capm.reset()\n",
    "    yr_test_record = np.empty(4)\n",
    "\n",
    "    while True:\n",
    "        a = dqn.choose_greedy_action(stdize(s))\n",
    "        yr_test_record = np.vstack((yr_test_record, [s[0],s[2],r, a])) #record battery, henergy, reward and action\n",
    "        s_, r, day_end, year_end = capm.step(a)\n",
    "        if year_end:\n",
    "            break\n",
    "        s = s_\n",
    "\n",
    "    yr_test_record = np.delete(yr_test_record, 0, 0) #remove the first row which is garbage\n",
    "    yr_test_reward_rec = yr_test_record[:,2]\n",
    "    yr_test_reward_rec = yr_test_reward_rec[::24] #annual average reward\n",
    "    results = np.vstack((results, [int(YEAR), np.mean(yr_test_reward_rec), int(capm.violation_counter), int(capm.batt_violations)]))\n",
    "    \n",
    "# # ###########################################################################################\n",
    "# # ###########################################################################################\n",
    "#     #     Plot the reward and battery for the entire year run\n",
    "#     title = LOCATION.upper() + ',' + str(YEAR)\n",
    "#     NO_OF_DAYS = capm.eno.NO_OF_DAYS\n",
    "\n",
    "#     fig = plt.figure(figsize=(24,6))\n",
    "#     fig.suptitle(title, fontsize=15)\n",
    "    \n",
    "# #     ax1 = fig.add_subplot(211)\n",
    "# #     ax1.plot(yr_test_reward_rec)\n",
    "# #     ax1.set_title(\"\\n\\nYear Run Reward\")\n",
    "# #     ax1.set_ylim([-3,3])\n",
    "    \n",
    "#     ax2 = fig.add_subplot(111)\n",
    "#     ax2.plot(yr_test_record[:,0],'r')\n",
    "#     ax2.plot(np.ones_like(yr_test_record[:,0])*capm.BOPT/capm.BMAX, 'k--')\n",
    "#     ax2.plot(np.ones_like(yr_test_record[:,0])*capm.BLIM_LO/capm.BMAX, 'r:')\n",
    "#     ax2.plot(np.ones_like(yr_test_record[:,0])*capm.BLIM_HI/capm.BMAX, 'r:')\n",
    "#     ax2.plot(np.ones_like(yr_test_record[:,0])*(capm.BOPT+capm.ENP_MARGIN /2) /capm.BMAX, 'g:')\n",
    "#     ax2.plot(np.ones_like(yr_test_record[:,0])*(capm.BOPT-capm.ENP_MARGIN/2)/capm.BMAX, 'g:')\n",
    "#     ax2.set_title(\"\\n\\nYear Run Battery\")\n",
    "#     ax2.set_ylim([0,1])\n",
    "#     plt.sca(ax2)\n",
    "#     plt.xticks(np.arange(0, NO_OF_DAYS*24, 50*24),np.arange(0,NO_OF_DAYS,50))\n",
    "#     fig.tight_layout()\n",
    "#     plt.show()\n",
    "# # ###########################################################################################\n",
    "# # ###########################################################################################\n"
   ]
  },
  {
   "cell_type": "code",
   "execution_count": 67,
   "metadata": {},
   "outputs": [
    {
     "name": "stdout",
     "output_type": "stream",
     "text": [
      "YEAR\tAVG_RWD\t\tVIOLATIONS\n",
      "\t\t\tDAY\tBATT\n",
      "2000\t 1.19\t\t0\t 0\n",
      "2001\t 1.16\t\t0\t 0\n",
      "2002\t 1.12\t\t0\t 0\n",
      "2003\t 1.05\t\t0\t 0\n",
      "2004\t 1.18\t\t0\t 0\n",
      "2005\t 1.17\t\t2\t 0\n",
      "2006\t 1.12\t\t0\t 0\n",
      "2007\t 1.21\t\t0\t 0\n",
      "2008\t 1.22\t\t0\t 0\n",
      "2009\t 1.07\t\t1\t 0\n",
      "2010\t 1.15\t\t0\t 0\n",
      "2011\t 1.15\t\t0\t 0\n",
      "2012\t 1.18\t\t3\t 15\n",
      "2013\t 1.15\t\t0\t 0\n",
      "2014\t 1.2\t\t0\t 0\n",
      "2015\t 1.07\t\t0\t 0\n",
      "2016\t 1.13\t\t0\t 0\n",
      "2017\t 1.12\t\t0\t 0\n",
      "2018\t 1.07\t\t0\t 0\n",
      "\n",
      "TOTAL Day Violations:   6.0\n",
      "TOTAL Batt Violations:  15.0\n"
     ]
    }
   ],
   "source": [
    "results = np.delete(results,0,0)\n",
    "print('YEAR\\tAVG_RWD\\t\\tVIOLATIONS')\n",
    "print('\\t\\t\\tDAY\\tBATT')\n",
    "\n",
    "for x in np.arange(0,results.shape[0]):\n",
    "    print('{}\\t {}\\t\\t{}\\t {}'.format(int(results[x,0]), np.around(results[x,1],2), int(results[x,2]), int(results[x,-1])))\n",
    "\n",
    "print(\"\\nTOTAL Day Violations:  \",np.sum(results[:, 2]))\n",
    "print(\"TOTAL Batt Violations: \",np.sum(results[:,-1]))"
   ]
  },
  {
   "cell_type": "code",
   "execution_count": 69,
   "metadata": {},
   "outputs": [
    {
     "name": "stdout",
     "output_type": "stream",
     "text": [
      "minamidaito\n",
      " 0\n",
      " 0\n",
      " 0\n",
      " 0\n",
      " 0\n",
      " 0\n",
      " 0\n",
      " 0\n",
      " 0\n",
      " 0\n",
      " 0\n",
      " 0\n",
      "15\n",
      " 0\n",
      " 0\n",
      " 0\n",
      " 0\n",
      " 0\n",
      " 0\n"
     ]
    }
   ],
   "source": [
    "print(LOCATION)\n",
    "for x in np.arange(0,results.shape[0]):\n",
    "#     print('{}'.format(np.around(results[x,1],2)))\n",
    "    print('{:2d}'.format(int(results[x,-1])))\n",
    "\n",
    "#     print('{}\\t {}\\t\\t{}\\t {}'.format(int(results[x,0]), np.around(results[x,1],2), int(results[x,2]), int(results[x,-1])))\n"
   ]
  },
  {
   "cell_type": "code",
   "execution_count": 27,
   "metadata": {},
   "outputs": [],
   "source": [
    "LOCATION = 'fukuoka'\n",
    "YEAR = 2011"
   ]
  },
  {
   "cell_type": "code",
   "execution_count": 28,
   "metadata": {},
   "outputs": [
    {
     "data": {
      "image/png": "[encoded data removed]",
      "text/plain": [
       "<Figure size 1728x432 with 1 Axes>"
      ]
     },
     "metadata": {
      "needs_background": "light"
     },
     "output_type": "display_data"
    }
   ],
   "source": [
    "capm = CAPM(LOCATION,YEAR,shuffle=False, trainmode=False) #instantiate the CAPM class\n",
    "capm.eno = ENO(LOCATION,YEAR, shuffle=False, day_balance=False) #instantiate the environment inside the CAPM class\n",
    "capm.HMAX = capm.eno.SMAX #maximum power output of solar cell is set in CAPM object using the value in ENO object\n",
    "\n",
    "s, r, day_end, year_end = capm.reset()\n",
    "yr_test_record = np.empty(4)\n",
    "\n",
    "while True:\n",
    "    a = dqn.choose_greedy_action(stdize(s))\n",
    "\n",
    "    #state = [batt, enp, henergy, fcast]\n",
    "    yr_test_record = np.vstack((yr_test_record, [s[0],s[2],r, a])) #record battery, henergy, reward and action\n",
    "\n",
    "    # take action\n",
    "    s_, r, day_end, year_end = capm.step(a)\n",
    "\n",
    "    if year_end:\n",
    "        break\n",
    "\n",
    "    s = s_\n",
    "\n",
    "yr_test_record = np.delete(yr_test_record, 0, 0) #remove the first row which is garbage\n",
    "yr_test_reward_rec = yr_test_record[:,2]\n",
    "yr_test_reward_rec = yr_test_reward_rec[::24]\n",
    "\n",
    "title = LOCATION.upper() + ',' + str(YEAR)\n",
    "NO_OF_DAYS = capm.eno.NO_OF_DAYS\n",
    "\n",
    "fig = plt.figure(figsize=(24,6))\n",
    "fig.suptitle(title, fontsize=15)\n",
    "\n",
    "#     ax1 = fig.add_subplot(211)\n",
    "#     ax1.plot(yr_test_reward_rec)\n",
    "#     ax1.set_title(\"\\n\\nYear Run Reward\")\n",
    "#     ax1.set_ylim([-3,3])\n",
    "\n",
    "#Plot the reward and battery for the entire year run\n",
    "ax2 = fig.add_subplot(111)\n",
    "ax2.plot(yr_test_record[:,0],'r')\n",
    "ax2.plot(np.ones_like(yr_test_record[:,0])*capm.BOPT/capm.BMAX, 'k--')\n",
    "ax2.plot(np.ones_like(yr_test_record[:,0])*capm.BLIM_LO/capm.BMAX, 'r:')\n",
    "ax2.plot(np.ones_like(yr_test_record[:,0])*capm.BLIM_HI/capm.BMAX, 'r:')\n",
    "ax2.plot(np.ones_like(yr_test_record[:,0])*(capm.BOPT+capm.ENP_MARGIN /2) /capm.BMAX, 'g:')\n",
    "ax2.plot(np.ones_like(yr_test_record[:,0])*(capm.BOPT-capm.ENP_MARGIN/2)/capm.BMAX, 'g:')\n",
    "ax2.set_title(\"\\n\\nYear Run Battery\")\n",
    "ax2.set_ylim([0,1])\n",
    "plt.sca(ax2)\n",
    "plt.xticks(np.arange(0, NO_OF_DAYS*24, 50*24),np.arange(0,NO_OF_DAYS,50))\n",
    "fig.tight_layout()\n",
    "plt.show()"
   ]
  },
  {
   "cell_type": "code",
   "execution_count": 29,
   "metadata": {},
   "outputs": [],
   "source": [
    "DAY_START = 320\n",
    "DAY_END   = 350"
   ]
  },
  {
   "cell_type": "code",
   "execution_count": null,
   "metadata": {},
   "outputs": [],
   "source": [
    "#Plot the reward and battery for the entire year run on a day by day basis\n",
    "title = LOCATION.upper() + ',' + str(YEAR)\n",
    "TIME_AXIS = np.arange(0,capm.eno.TIME_STEPS)\n",
    "for DAY in range(DAY_START,DAY_END):\n",
    "    START = DAY*24\n",
    "    END = START+24\n",
    "\n",
    "    daytitle = title + ' - DAY ' + str(DAY)\n",
    "    fig = plt.figure(figsize=(16,4))\n",
    "    st = fig.suptitle(daytitle)\n",
    "\n",
    "    ax2 = fig.add_subplot(121)\n",
    "    ax2.plot(yr_test_record[START:END,1],'g')\n",
    "    ax2.set_title(\"HARVESTED ENERGY\")\n",
    "    ax2.set_xlabel(\"Hour\")\n",
    "    ax2.set_ylim([0,1.05])\n",
    "    \n",
    "    ax2.text(0.1, 0.6, \"TENP = %.2f\\n\" %(capm.BOPT/capm.BMAX-yr_test_record[END,0]),fontsize=11, ha='left')\n",
    "    ax2.text(0.1, 0.5, \"BMEAN = %.2f\\n\" %(np.mean(yr_test_record[START:END,0])),fontsize=11, ha='left')\n",
    "    ax2.text(0.1, 0.4, \"BINIT = %.2f\\n\" %(yr_test_record[START,0]),fontsize=11, ha='left')\n",
    "    if END < (capm.eno.NO_OF_DAYS*capm.eno.TIME_STEPS):\n",
    "        ax2.text(0.1, 0.1, \"REWARD = %.2f\\n\" %(yr_test_record[END,2]),fontsize=13, ha='left')\n",
    "        \n",
    "    #plot battery for year run\n",
    "    ax1 = fig.add_subplot(122)\n",
    "    ax1.plot(TIME_AXIS,              yr_test_record[START:END,0],'r')\n",
    "    ax1.plot(TIME_AXIS, np.ones_like(yr_test_record[START:END,0])*capm.BOPT/capm.BMAX, 'r--')\n",
    "    ax1.plot(TIME_AXIS, np.ones_like(yr_test_record[START:END,0])*capm.BLIM_LO/capm.BMAX, 'r-.',alpha=0.5)\n",
    "    ax1.plot(TIME_AXIS, np.ones_like(yr_test_record[START:END,0])*capm.BLIM_HI/capm.BMAX, 'r-.',alpha=0.5)\n",
    "    ax1.plot(TIME_AXIS, np.ones_like(yr_test_record[START:END,0])*(capm.BOPT+capm.ENP_MARGIN /2) /capm.BMAX, 'g:',alpha=0.5)\n",
    "    ax1.plot(TIME_AXIS, np.ones_like(yr_test_record[START:END,0])*(capm.BOPT-capm.ENP_MARGIN/2)/capm.BMAX, 'g:',alpha=0.5)\n",
    "    \n",
    "    ax1.set_title(\"YEAR RUN TEST\")\n",
    "    ax1.set_xlabel(\"Hour\")\n",
    "    ax1.set_ylabel('Battery', color='r',fontsize=12)\n",
    "    ax1.set_ylim([-0.05,1.05])\n",
    "\n",
    "    #plot actions for year run\n",
    "    ax1a = ax1.twinx()\n",
    "    ax1a.plot(yr_test_record[START:END,3]+1)\n",
    "    ax1a.set_ylim([0,N_ACTIONS])\n",
    "    ax1a.set_ylabel('Duty Cycle', color='b',fontsize=12)\n",
    "    ax1a.set_ylim([0,10.25])\n",
    "\n",
    "\n",
    "    fig.tight_layout()\n",
    "    st.set_y(0.95)\n",
    "    fig.subplots_adjust(top=0.75)\n",
    "    plt.show()"
   ]
  },
  {
   "cell_type": "code",
   "execution_count": null,
   "metadata": {},
   "outputs": [],
   "source": []
  },
  {
   "cell_type": "code",
   "execution_count": null,
   "metadata": {},
   "outputs": [],
   "source": []
  },
  {
   "cell_type": "code",
   "execution_count": 31,
   "metadata": {},
   "outputs": [
    {
     "name": "stdout",
     "output_type": "stream",
     "text": [
      "Neural net:\n",
      "Net(\n",
      "  (fc1): Linear(in_features=4, out_features=50, bias=True)\n",
      "  (fc_out): Linear(in_features=50, out_features=10, bias=True)\n",
      ")\n",
      "DEVICE:  cpu\n"
     ]
    }
   ],
   "source": [
    "S_FILENAME = './models/'+ MODELNAME\n",
    "dqn = DQN()\n",
    "dqn.eval_net.load_state_dict(torch.load(S_FILENAME))\n",
    "dqn.eval_net.eval()\n",
    "print(\"DEVICE: \", dqn.device)"
   ]
  },
  {
   "cell_type": "code",
   "execution_count": 32,
   "metadata": {},
   "outputs": [],
   "source": [
    "LOCATION = 'tokyo'\n",
    "YEAR = 2000\n",
    "LAMBDA = 0.95"
   ]
  },
  {
   "cell_type": "code",
   "execution_count": null,
   "metadata": {},
   "outputs": [],
   "source": [
    "capm = CAPM(LOCATION,YEAR,shuffle=False, trainmode=False) #instantiate the CAPM class\n",
    "capm.eno = ENO(LOCATION,YEAR, shuffle=False, day_balance=False) #instantiate the environment inside the CAPM class\n",
    "capm.HMAX = capm.eno.SMAX #maximum power output of solar cell is set in CAPM object using the value in ENO object\n",
    "\n",
    "s, r, day_end, year_end = capm.reset()\n",
    "yr_test_record = np.empty(4)\n",
    "experience_rec = np.empty(N_STATES * 2 + 2) #record all the transitions during training\n",
    "transition_rec = np.zeros((capm.eno.TIME_STEPS, N_STATES * 2 + 2)) #record all the transition in one day\n",
    "\n",
    "while True:\n",
    "    a = dqn.choose_greedy_action(stdize(s))\n",
    "\n",
    "    #state = [batt, enp, henergy, fcast]\n",
    "    yr_test_record = np.vstack((yr_test_record, [s[0],s[2],r, a])) #record battery, henergy, reward and action\n",
    "\n",
    "    # take action\n",
    "    s_, r, day_end, year_end = capm.step(a)\n",
    "    \n",
    "    #Remember experience\n",
    "    temp_transitions                = np.hstack((stdize(s), [a, r], stdize(s_)))\n",
    "    transition_rec[capm.eno.hr-1,:] = temp_transitions\n",
    "\n",
    "    if (day_end):\n",
    "        transition_rec[:,5] += r #broadcast reward to all states\n",
    "        decay_factor         = [i for i in (LAMBDA**n for n in reversed(range(0, capm.eno.TIME_STEPS)))]\n",
    "        transition_rec[:,5]  = transition_rec[:,5] * decay_factor #decay reward proportionately\n",
    "        experience_rec     = np.vstack((experience_rec, transition_rec))\n",
    "\n",
    "    if year_end:\n",
    "        break\n",
    "\n",
    "    s = s_\n",
    "    \n",
    "experience_rec = np.delete(experience_rec, 0, 0)\n",
    "EXPERIENCE_FILENAME = './experience/'+'nnXP' + str(iteration)\n",
    "np.save(EXPERIENCE_FILENAME, experience_rec)\n",
    "\n",
    "yr_test_record = np.delete(yr_test_record, 0, 0) #remove the first row which is garbage\n",
    "yr_test_reward_rec = yr_test_record[:,2]\n",
    "yr_test_reward_rec = yr_test_reward_rec[::24]\n",
    "\n",
    "title = LOCATION.upper() + ',' + str(YEAR)\n",
    "NO_OF_DAYS = capm.eno.NO_OF_DAYS\n",
    "\n",
    "fig = plt.figure(figsize=(24,6))\n",
    "fig.suptitle(title, fontsize=15)\n",
    "\n",
    "#     ax1 = fig.add_subplot(211)\n",
    "#     ax1.plot(yr_test_reward_rec)\n",
    "#     ax1.set_title(\"\\n\\nYear Run Reward\")\n",
    "#     ax1.set_ylim([-3,3])\n",
    "\n",
    "#Plot the reward and battery for the entire year run\n",
    "ax2 = fig.add_subplot(111)\n",
    "ax2.plot(yr_test_record[:,0],'r')\n",
    "ax2.plot(np.ones_like(yr_test_record[:,0])*capm.BOPT/capm.BMAX, 'k--')\n",
    "ax2.plot(np.ones_like(yr_test_record[:,0])*capm.BLIM_LO/capm.BMAX, 'r:')\n",
    "ax2.plot(np.ones_like(yr_test_record[:,0])*capm.BLIM_HI/capm.BMAX, 'r:')\n",
    "ax2.plot(np.ones_like(yr_test_record[:,0])*(capm.BOPT+capm.ENP_MARGIN /2) /capm.BMAX, 'g:')\n",
    "ax2.plot(np.ones_like(yr_test_record[:,0])*(capm.BOPT-capm.ENP_MARGIN/2)/capm.BMAX, 'g:')\n",
    "ax2.set_title(\"\\n\\nYear Run Battery\")\n",
    "ax2.set_ylim([0,1])\n",
    "plt.sca(ax2)\n",
    "plt.xticks(np.arange(0, NO_OF_DAYS*24, 50*24),np.arange(0,NO_OF_DAYS,50))\n",
    "fig.tight_layout()\n",
    "plt.show()"
   ]
  },
  {
   "cell_type": "code",
   "execution_count": null,
   "metadata": {},
   "outputs": [],
   "source": []
  },
  {
   "cell_type": "code",
   "execution_count": null,
   "metadata": {},
   "outputs": [],
   "source": []
  },
  {
   "cell_type": "code",
   "execution_count": null,
   "metadata": {},
   "outputs": [],
   "source": []
  },
  {
   "cell_type": "code",
   "execution_count": null,
   "metadata": {},
   "outputs": [],
   "source": []
  },
  {
   "cell_type": "code",
   "execution_count": null,
   "metadata": {},
   "outputs": [],
   "source": []
  },
  {
   "cell_type": "code",
   "execution_count": 34,
   "metadata": {},
   "outputs": [],
   "source": [
    "# ph = np.load(\"./experiencee/nnXP99.npy\")"
   ]
  },
  {
   "cell_type": "code",
   "execution_count": 35,
   "metadata": {},
   "outputs": [],
   "source": [
    "# ph.shape"
   ]
  },
  {
   "cell_type": "code",
   "execution_count": 36,
   "metadata": {},
   "outputs": [],
   "source": [
    "# ph[0:23,0:2]"
   ]
  },
  {
   "cell_type": "code",
   "execution_count": null,
   "metadata": {},
   "outputs": [],
   "source": []
  }
 ],
 "metadata": {
  "kernelspec": {
   "display_name": "Python 3",
   "language": "python",
   "name": "python3"
  },
  "language_info": {
   "codemirror_mode": {
    "name": "ipython",
    "version": 3
   },
   "file_extension": ".py",
   "mimetype": "text/x-python",
   "name": "python",
   "nbconvert_exporter": "python",
   "pygments_lexer": "ipython3",
   "version": "3.6.7"
  }
 },
 "nbformat": 4,
 "nbformat_minor": 2
}
